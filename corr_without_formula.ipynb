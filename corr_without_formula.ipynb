{
 "cells": [
  {
   "cell_type": "code",
   "execution_count": 6,
   "metadata": {},
   "outputs": [
    {
     "name": "stdout",
     "output_type": "stream",
     "text": [
      "\n",
      "               Age  NewScore\n",
      "Age       1.00000  -0.59733\n",
      "NewScore -0.59733   1.00000\n",
      "\n",
      "                Age  NewScore\n",
      "Age       1.000000 -0.451228\n",
      "NewScore -0.451228  1.000000\n",
      "\n",
      "pearson correlation : -0.597330\n",
      "\n",
      "spearman correlation:-0.451228\n"
     ]
    }
   ],
   "source": [
    "#Predicting the mental ability\n",
    "\n",
    "import pandas as pd\n",
    "import numpy as np\n",
    "\n",
    "from scipy.stats import pearsonr\n",
    "from scipy.stats import spearmanr\n",
    "\n",
    "#Loading mental ability dataset\n",
    "data = pd.read_csv('D:\\ME Cse\\PYTHON\\mentalability.csv')\n",
    "\n",
    "#Finding the correlation between Age and NewScore(score+2)\n",
    "data1 = data['Age'].tolist()\n",
    "data2 = data['NewScore'].tolist()\n",
    "\n",
    "print(\"\\n\",data.corr(method='pearson'))\n",
    "print(\"\\n\",data.corr(method='spearman'))\n",
    "\n",
    "corrp,_ = pearsonr(data1,data2)\n",
    "print('\\npearson correlation : %.6f'% corrp)\n",
    "\n",
    "corrs,_ = spearmanr(data1,data2)\n",
    "print('\\nspearman correlation:%.6f'% corrs)"
   ]
  },
  {
   "cell_type": "code",
   "execution_count": 8,
   "metadata": {},
   "outputs": [
    {
     "name": "stdout",
     "output_type": "stream",
     "text": [
      "\n",
      "                 Stumps  Beetle Larvae\n",
      "Stumps         1.00000        0.91585\n",
      "Beetle Larvae  0.91585        1.00000\n",
      "\n",
      "                  Stumps  Beetle Larvae\n",
      "Stumps         1.000000       0.859644\n",
      "Beetle Larvae  0.859644       1.000000\n",
      "\n",
      "pearson correlation : 0.915850\n",
      "\n",
      "spearman correlation:0.859644\n"
     ]
    }
   ],
   "source": [
    "#Tree stumps and Beetle Larvae \n",
    "\n",
    "import pandas as pd\n",
    "import numpy as np\n",
    "\n",
    "from scipy.stats import pearsonr\n",
    "from scipy.stats import spearmanr\n",
    "\n",
    "#Loading Tree stumps and Beetle Larvae dataset\n",
    "data = pd.read_csv('D:\\\\ME Cse\\\\PYTHON\\\\beetlelarvae.csv')\n",
    "\n",
    "#Finding the correlation between treestumps and beetle larvae\n",
    "data1 = data['Stumps'].tolist()\n",
    "data2 = data['Beetle Larvae'].tolist()\n",
    "\n",
    "print(\"\\n\",data.corr(method='pearson'))\n",
    "print(\"\\n\",data.corr(method='spearman'))\n",
    "\n",
    "corrp,_ = pearsonr(data1,data2)\n",
    "print('\\npearson correlation : %.6f'% corrp)\n",
    "\n",
    "corrs,_ = spearmanr(data1,data2)\n",
    "print('\\nspearman correlation:%.6f'% corrs)"
   ]
  },
  {
   "cell_type": "code",
   "execution_count": 9,
   "metadata": {},
   "outputs": [
    {
     "name": "stdout",
     "output_type": "stream",
     "text": [
      "\n",
      "               Miles/Hour  Miles/Gallon\n",
      "Miles/Hour           1.0           0.0\n",
      "Miles/Gallon         0.0           1.0\n",
      "\n",
      "               Miles/Hour  Miles/Gallon\n",
      "Miles/Hour           1.0           0.0\n",
      "Miles/Gallon         0.0           1.0\n",
      "\n",
      "pearson correlation : 0.000000\n",
      "\n",
      "spearman correlation:0.000000\n"
     ]
    }
   ],
   "source": [
    "#Speed and gas mileage\n",
    "\n",
    "import pandas as pd\n",
    "import numpy as np\n",
    "\n",
    "from scipy.stats import pearsonr\n",
    "from scipy.stats import spearmanr\n",
    "\n",
    "#Loading Speed nad gas mileage dataset\n",
    "data = pd.read_csv('D:\\\\ME Cse\\\\PYTHON\\\\speed_gas_mileage.csv')\n",
    "\n",
    "#Finding the correlation between Miles per hr and miles per gallon\n",
    "data1 = data['Miles/Hour'].tolist()\n",
    "data2 = data['Miles/Gallon'].tolist()\n",
    "\n",
    "print(\"\\n\",data.corr(method='pearson'))\n",
    "print(\"\\n\",data.corr(method='spearman'))\n",
    "\n",
    "corrp,_ = pearsonr(data1,data2)\n",
    "print('\\npearson correlation : %.6f'% corrp)\n",
    "\n",
    "corrs,_ = spearmanr(data1,data2)\n",
    "print('\\nspearman correlation:%.6f'% corrs)"
   ]
  },
  {
   "cell_type": "code",
   "execution_count": 17,
   "metadata": {},
   "outputs": [
    {
     "name": "stdout",
     "output_type": "stream",
     "text": [
      "correlation between sepal_length and species \n",
      "pearson correlation : 0.782561\n",
      "spearman correlation : 0.798078\n",
      "\n",
      "correlation between petal_length and species \n",
      "pearson correlation : 0.949035\n",
      "spearman correlation : 1.000000\n"
     ]
    }
   ],
   "source": [
    "#correlation in iris dataset\n",
    "\n",
    "from sklearn.datasets import load_iris\n",
    "from scipy.stats import pearsonr\n",
    "from scipy.stats import spearmanr\n",
    "\n",
    "#Loading the iris dataset\n",
    "data = load_iris()\n",
    "\n",
    "#correlation between sepal_length and species\n",
    "data1 = data.data[:,0].tolist()\n",
    "data2 = data.target.tolist()\n",
    "print(\"correlation between sepal_length and species \")\n",
    "corrp,_ = pearsonr(data1,data2)\n",
    "print('pearson correlation : %.6f'% corrp)\n",
    "corrs,_ = spearmanr(data1,data2)\n",
    "print('spearman correlation : %.6f'% corrs)\n",
    "\n",
    "#correlation between petal_length and species\n",
    "data3 = data.data[:,2].tolist()\n",
    "data4 = data.target.tolist()\n",
    "print(\"\\ncorrelation between petal_length and species \")\n",
    "corr,_ = pearsonr(data3,data4)\n",
    "print('pearson correlation : %.6f'% corr)\n",
    "corrs,_ = spearmanr(data3,data3)\n",
    "print('spearman correlation : %.6f'% corrs)"
   ]
  },
  {
   "cell_type": "code",
   "execution_count": 19,
   "metadata": {},
   "outputs": [
    {
     "name": "stdout",
     "output_type": "stream",
     "text": [
      "correlation between Percentage of lower status of the population and target: prices of the house\n",
      "pearson correlation : -0.737663\n",
      "spearman correlation : -0.852914\n"
     ]
    }
   ],
   "source": [
    "#correlation in boston housing dataset\n",
    "\n",
    "from sklearn.datasets import load_boston\n",
    "from scipy.stats import pearsonr\n",
    "from scipy.stats import spearmanr\n",
    "\n",
    "#Loading the iris dataset\n",
    "data = load_boston()\n",
    "\n",
    "#correlation between Percentage of lower status of the population and target: prices of the house\n",
    "data1 = data.data[:,12].tolist()\n",
    "data2 = data.target.tolist()\n",
    "print(\"correlation between Percentage of lower status of the population and target: prices of the house\")\n",
    "corrp,_ = pearsonr(data1,data2)\n",
    "print('pearson correlation : %.6f'% corrp)\n",
    "corrs,_ = spearmanr(data1,data2)\n",
    "print('spearman correlation : %.6f'% corrs)"
   ]
  },
  {
   "cell_type": "code",
   "execution_count": null,
   "metadata": {},
   "outputs": [],
   "source": []
  }
 ],
 "metadata": {
  "kernelspec": {
   "display_name": "Python 3",
   "language": "python",
   "name": "python3"
  },
  "language_info": {
   "codemirror_mode": {
    "name": "ipython",
    "version": 3
   },
   "file_extension": ".py",
   "mimetype": "text/x-python",
   "name": "python",
   "nbconvert_exporter": "python",
   "pygments_lexer": "ipython3",
   "version": "3.7.7"
  }
 },
 "nbformat": 4,
 "nbformat_minor": 4
}
