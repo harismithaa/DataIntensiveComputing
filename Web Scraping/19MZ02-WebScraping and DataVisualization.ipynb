{
 "cells": [
  {
   "cell_type": "code",
   "execution_count": 1,
   "metadata": {},
   "outputs": [
    {
     "name": "stdout",
     "output_type": "stream",
     "text": [
      "2019 6th International Conference on Artificial Intelligence (ICOAI 2019)--JA, Scopus\n",
      "2019 Int. Conference on Artificial Intelligence, Robotics and Control (AIRC 2019)--EI,Scopus\n",
      "2019 3rd Asia Conference on Machine Learning and Computing (ACMLC 2019)--JA, Scopus\n",
      "2019 3rd Int. Conference on Computer Science and Artificial Intelligence (CSAI 2019)--Ei,Scopus\n",
      "2019 International Workshop on Artificial Intelligence and Education (WAIE 2019)--Ei,Scopus\n",
      "2019 The 2nd Int. Conf. on Computational Intelligence and Intelligent Systems(CIIS 2019)--Ei,Scopus\n",
      "2019 5th International Conference on Robotics and Artificial Intelligence (ICRAI 2019)--Ei,Scopus\n",
      "2019 6th Intl. Conference on Soft Computing  Machine Intelligence (ISCMI 2019)--Ei,Scopus\n",
      "SPIE--2019 The 12th International Conference on Machine Vision (ICMV 2019)--EI,Scopus\n",
      "2019 2nd International Conference on Big Data and Machine Learning (BDML 2019)--Ei,Scopus\n",
      "2019 The 3rd International Conference on Advances in Artificial Intelligence (ICAAI 2019)--EI,Scopus\n",
      "ACM-2019 High Performance Computing and Computational Intelligence Conference (HPCCI 2019)-Ei,Scopus\n",
      "2019 International Conference on Virtual Reality and Intelligent System (VRIS 2019)--SCOPUS,Ei\n",
      "IEEE--2019 International Conference on Image Processing and Machine Vision (IPMV 2019)--Ei,Scopus\n",
      "2019 The 2nd Int. Conference on Machine Learning and Machine Intelligence (MLMI 2019)--Ei,Scopus\n",
      "2019 The Int. Conf. on Education and Artificial Intelligence Technologies (EAIT 2019)-JA,Scopus\n",
      "2019 8th International Conference on Intelligent Information Processing (ICIIP 2019)--Ei,Scopus\n",
      "IEEE--2019 2nd Int. Conf. of Intelligent Robotic and Control Engineering (IRCE 2019)--EI,Scopus\n",
      "ACM--2019 the 2nd Int. Conf. on Pattern Recognition and Artificial Intelligence(PRAI 2019)-Ei,Scopus\n",
      "2019 2nd Int. Conf. on Artificial Intelligence and Pattern Recognition (AIPR 2019)--EI,Scopus\n",
      "\n",
      "Dec 20, 2019\n",
      "\n",
      "Dec 16, 2019\n",
      "\n",
      "Dec 09, 2019\n",
      "\n",
      "Dec 08, 2019\n",
      "\n",
      "Nov 27, 2019\n",
      "\n",
      "Nov 25, 2019\n",
      "\n",
      "Nov 24, 2019\n",
      "\n",
      "Nov 20, 2019\n",
      "\n",
      "Nov 18, 2019\n",
      "\n",
      "Nov 10, 2019\n",
      "\n",
      "Oct 28, 2019\n",
      "\n",
      "Oct 27, 2019\n",
      "\n",
      "Oct 14, 2019\n",
      "\n",
      "Sep 30, 2019\n",
      "\n",
      "Sep 20, 2019\n",
      "\n",
      "Sep 16, 2019\n",
      "\n",
      "Aug 30, 2019\n",
      "\n",
      "Aug 29, 2019\n",
      "\n",
      "Aug 28, 2019\n",
      "\n",
      "Aug 18, 2019\n",
      "2019 3rd Int. Conference on Artificial Intelligence and Virtual Reality (AIVR 2019)--Ei,Scopus\n",
      "2019 The 2nd International Conference on Intelligent Science and Technology (ICIST 2019)--Ei,Scopus\n",
      "2019 3rd International Conference on Deep Learning Technologies (ICDLT 2019)--EI,Scopus\n",
      "2019 4th IEEE International Conference on Image, Vision and Computing (ICIVC 2019)--EI,Scopus\n",
      "2019 2nd International Conference on Big Data and Artificial Intelligence (BDAI 2019)--Ei,Scopus\n",
      "2019 4th International Conference on Machine Learning Technologies (ICMLT 2019)--Ei,Scopus\n",
      "2019 4th Int. Conference on Computational Intelligence and Applications (ICCIA 2019)--Ei,Scopus\n",
      "IEEE--2019 The 2nd Int. Conference on Artificial Intelligence and Big Data (ICAIBD 2019)-Ei,Scopus\n",
      "2019 5th International Conference on Computing and Artificial Intelligence (ICCAI 2019)--Ei,Scopus\n",
      "2019 International Conference on Intelligent Medicine and Image Processing (IMIP 2019)--Ei,Scopus\n",
      "2019 the 4th Int. Conference on Mathematics and Artificial Intelligence (ICMAI 2019)--EI,Scopus\n",
      "ACM--2019 The 2nd Int. Conference on Machine Vision and Applications (ICMVA 2019)--Ei,Scopus\n",
      "2019 3rd Int. Conf. on Intelligent Systems, Metaheuristics  Swarm Intelligence (ISMSI 2019)--Ei\n",
      "ACM--2019 The 3rd Int. Conference on Innovation in Artificial Intelligence (ICIAI 2019)--Ei,Scopus\n",
      "2019 World Symposium on Artificial Intelligence (WSAI 2019)--Ei,Scopus\n",
      "6th International Conference on Artificial Intelligence and Applications (AIAPP 2019)\n",
      "2019 11th International Conference on Machine Learning and Computing (ICMLC 2019)_ACM,Ei,Scopus\n",
      "2019 The 8th Int. Conference on Intelligent Computing and Applications (ICICA 2019)_Ei,Scopus\n",
      "2019 The 2nd International Conference on Intelligent Control and Computing (ICICC 2019)_Ei,Scopus\n",
      "5th International Conference on Artificial Intelligence and Applications (AIFU 2019)\n",
      "\n",
      "Jul 29, 2019\n",
      "\n",
      "Jul 12, 2019\n",
      "\n",
      "Jul 07, 2019\n",
      "\n",
      "Jul 07, 2019\n",
      "\n",
      "Jun 24, 2019\n",
      "\n",
      "Jun 23, 2019\n",
      "\n",
      "Jun 23, 2019\n",
      "\n",
      "May 28, 2019\n",
      "\n",
      "Apr 22, 2019\n",
      "\n",
      "Apr 22, 2019\n",
      "\n",
      "Apr 15, 2019\n",
      "\n",
      "Apr 15, 2019\n",
      "\n",
      "Mar 24, 2019\n",
      "\n",
      "Mar 18, 2019\n",
      "\n",
      "Mar 10, 2019\n",
      "\n",
      "Feb 24, 2019 06:00 PM\n",
      "\n",
      "Feb 24, 2019\n",
      "\n",
      "Jan 18, 2019\n",
      "\n",
      "Jan 14, 2019\n",
      "\n",
      "Jul 14, 2019 06:00 PM\n",
      "6th International Conference on Artificial Intelligence and Applications (AIAP-2019)\n",
      "7th International Conference of Artificial Intelligence and Fuzzy Logic (AI  FL 2019)\n",
      "3rd International Conference on Artificial Intelligence, Soft Computing And Applications (AISCA 2019\n",
      "\n",
      "May 26, 2019 06:00 PM\n",
      "\n",
      "Apr 28, 2019 06:00 PM\n",
      "\n",
      "Jan 20, 2019 06:00 PM\n"
     ]
    }
   ],
   "source": [
    "import requests\n",
    "import pandas as pd\n",
    "from bs4 import BeautifulSoup\n",
    "\n",
    "#Extracting information about conferences on Artificaial Intelligence \n",
    "#that took place between 01-jan-2019 and 01-jan-2020\n",
    "#link used for web scraping \n",
    "#http://www.allconferences.com/search/index/Category__parent_id:15474/Conference__start_date__from:01-01-2019/Conference__start_date__to:01-01-2020/showLastConference:1/page:1/\n",
    "#pages-1,2,3\n",
    "\n",
    "pages = []\n",
    "conf_name = []\n",
    "conf_date = []\n",
    "for i in range(1, 4):\n",
    "    url = 'http://www.allconferences.com/search/index/Category__parent_id:15474/Conference__start_date__from:01-01-2019/Conference__start_date__to:01-01-2020/showLastConference:1/page:' + str(i) + '/'\n",
    "    pages.append(url)\n",
    "    \n",
    "for page in pages: \n",
    "    #collecting the first page of conferences and creating a beautiful soup object\n",
    "    page = requests.get(page)\n",
    "    soup = BeautifulSoup(page.text, 'html.parser')\n",
    "\n",
    "    #Extracting the text form the webpage from the div element with class categories_conferences\n",
    "    C_list = soup.find(id ='categories_conferences')\n",
    "\n",
    "    #Removing the links and Superfluous Data from the text\n",
    "    last_links_1 = soup.find(class_='order_option')\n",
    "    last_links_1.decompose()\n",
    "    last_links_2 = soup.find(class_='pager')\n",
    "    last_links_2.decompose()\n",
    "    last_links_3 = soup.find(id='categoryViewFormEmptList')\n",
    "    last_links_3.decompose()\n",
    "\n",
    "    #extracting text from all the instances of h2 tag within the div element\n",
    "    list_items = C_list.find_all('h2')\n",
    "\n",
    "    for x in list_items:\n",
    "        names = x.a.text\n",
    "        conf_name.append(names)\n",
    "        print(names)\n",
    "\n",
    "    list_items_date = C_list.find_all('span')\n",
    "    \n",
    "    for k in list_items_date:\n",
    "        date = k.contents[1].strip()\n",
    "        conf_date.append(date)\n",
    "        print(date)"
   ]
  },
  {
   "cell_type": "code",
   "execution_count": 2,
   "metadata": {},
   "outputs": [
    {
     "name": "stdout",
     "output_type": "stream",
     "text": [
      "['2019 6th International Conference on Artificial Intelligence (ICOAI 2019)--JA, Scopus', '2019 Int. Conference on Artificial Intelligence, Robotics and Control (AIRC 2019)--EI,Scopus', '2019 3rd Asia Conference on Machine Learning and Computing (ACMLC 2019)--JA, Scopus', '2019 3rd Int. Conference on Computer Science and Artificial Intelligence (CSAI 2019)--Ei,Scopus', '2019 International Workshop on Artificial Intelligence and Education (WAIE 2019)--Ei,Scopus', '2019 The 2nd Int. Conf. on Computational Intelligence and Intelligent Systems(CIIS 2019)--Ei,Scopus', '2019 5th International Conference on Robotics and Artificial Intelligence (ICRAI 2019)--Ei,Scopus', '2019 6th Intl. Conference on Soft Computing  Machine Intelligence (ISCMI 2019)--Ei,Scopus', 'SPIE--2019 The 12th International Conference on Machine Vision (ICMV 2019)--EI,Scopus', '2019 2nd International Conference on Big Data and Machine Learning (BDML 2019)--Ei,Scopus', '2019 The 3rd International Conference on Advances in Artificial Intelligence (ICAAI 2019)--EI,Scopus', 'ACM-2019 High Performance Computing and Computational Intelligence Conference (HPCCI 2019)-Ei,Scopus', '2019 International Conference on Virtual Reality and Intelligent System (VRIS 2019)--SCOPUS,Ei', 'IEEE--2019 International Conference on Image Processing and Machine Vision (IPMV 2019)--Ei,Scopus', '2019 The 2nd Int. Conference on Machine Learning and Machine Intelligence (MLMI 2019)--Ei,Scopus', '2019 The Int. Conf. on Education and Artificial Intelligence Technologies (EAIT 2019)-JA,Scopus', '2019 8th International Conference on Intelligent Information Processing (ICIIP 2019)--Ei,Scopus', 'IEEE--2019 2nd Int. Conf. of Intelligent Robotic and Control Engineering (IRCE 2019)--EI,Scopus', 'ACM--2019 the 2nd Int. Conf. on Pattern Recognition and Artificial Intelligence(PRAI 2019)-Ei,Scopus', '2019 2nd Int. Conf. on Artificial Intelligence and Pattern Recognition (AIPR 2019)--EI,Scopus', '2019 3rd Int. Conference on Artificial Intelligence and Virtual Reality (AIVR 2019)--Ei,Scopus', '2019 The 2nd International Conference on Intelligent Science and Technology (ICIST 2019)--Ei,Scopus', '2019 3rd International Conference on Deep Learning Technologies (ICDLT 2019)--EI,Scopus', '2019 4th IEEE International Conference on Image, Vision and Computing (ICIVC 2019)--EI,Scopus', '2019 2nd International Conference on Big Data and Artificial Intelligence (BDAI 2019)--Ei,Scopus', '2019 4th International Conference on Machine Learning Technologies (ICMLT 2019)--Ei,Scopus', '2019 4th Int. Conference on Computational Intelligence and Applications (ICCIA 2019)--Ei,Scopus', 'IEEE--2019 The 2nd Int. Conference on Artificial Intelligence and Big Data (ICAIBD 2019)-Ei,Scopus', '2019 5th International Conference on Computing and Artificial Intelligence (ICCAI 2019)--Ei,Scopus', '2019 International Conference on Intelligent Medicine and Image Processing (IMIP 2019)--Ei,Scopus', '2019 the 4th Int. Conference on Mathematics and Artificial Intelligence (ICMAI 2019)--EI,Scopus', 'ACM--2019 The 2nd Int. Conference on Machine Vision and Applications (ICMVA 2019)--Ei,Scopus', '2019 3rd Int. Conf. on Intelligent Systems, Metaheuristics  Swarm Intelligence (ISMSI 2019)--Ei', 'ACM--2019 The 3rd Int. Conference on Innovation in Artificial Intelligence (ICIAI 2019)--Ei,Scopus', '2019 World Symposium on Artificial Intelligence (WSAI 2019)--Ei,Scopus', '6th International Conference on Artificial Intelligence and Applications (AIAPP 2019)', '2019 11th International Conference on Machine Learning and Computing (ICMLC 2019)_ACM,Ei,Scopus', '2019 The 8th Int. Conference on Intelligent Computing and Applications (ICICA 2019)_Ei,Scopus', '2019 The 2nd International Conference on Intelligent Control and Computing (ICICC 2019)_Ei,Scopus', '5th International Conference on Artificial Intelligence and Applications (AIFU 2019)', '6th International Conference on Artificial Intelligence and Applications (AIAP-2019)', '7th International Conference of Artificial Intelligence and Fuzzy Logic (AI  FL 2019)', '3rd International Conference on Artificial Intelligence, Soft Computing And Applications (AISCA 2019']\n"
     ]
    }
   ],
   "source": [
    "print(conf_name)"
   ]
  },
  {
   "cell_type": "code",
   "execution_count": 3,
   "metadata": {},
   "outputs": [
    {
     "name": "stdout",
     "output_type": "stream",
     "text": [
      "['Dec 20, 2019', 'Dec 16, 2019', 'Dec 09, 2019', 'Dec 08, 2019', 'Nov 27, 2019', 'Nov 25, 2019', 'Nov 24, 2019', 'Nov 20, 2019', 'Nov 18, 2019', 'Nov 10, 2019', 'Oct 28, 2019', 'Oct 27, 2019', 'Oct 14, 2019', 'Sep 30, 2019', 'Sep 20, 2019', 'Sep 16, 2019', 'Aug 30, 2019', 'Aug 29, 2019', 'Aug 28, 2019', 'Aug 18, 2019', 'Jul 29, 2019', 'Jul 12, 2019', 'Jul 07, 2019', 'Jul 07, 2019', 'Jun 24, 2019', 'Jun 23, 2019', 'Jun 23, 2019', 'May 28, 2019', 'Apr 22, 2019', 'Apr 22, 2019', 'Apr 15, 2019', 'Apr 15, 2019', 'Mar 24, 2019', 'Mar 18, 2019', 'Mar 10, 2019', 'Feb 24, 2019 06:00 PM', 'Feb 24, 2019', 'Jan 18, 2019', 'Jan 14, 2019', 'Jul 14, 2019 06:00 PM', 'May 26, 2019 06:00 PM', 'Apr 28, 2019 06:00 PM', 'Jan 20, 2019 06:00 PM']\n"
     ]
    }
   ],
   "source": [
    "while(\"\" in conf_date) : \n",
    "    conf_date.remove(\"\")\n",
    "print(conf_date)"
   ]
  },
  {
   "cell_type": "code",
   "execution_count": 4,
   "metadata": {},
   "outputs": [
    {
     "name": "stdout",
     "output_type": "stream",
     "text": [
      "2019-01    2\n",
      "2019-02    1\n",
      "2019-03    3\n",
      "2019-04    4\n",
      "2019-05    1\n",
      "2019-06    3\n",
      "2019-07    4\n",
      "2019-08    4\n",
      "2019-09    3\n",
      "2019-10    3\n",
      "2019-11    6\n",
      "2019-12    4\n",
      "Freq: M, dtype: int64\n"
     ]
    }
   ],
   "source": [
    "#Grouping the conferences by month\n",
    "\n",
    "s = pd.to_datetime(pd.Series(conf_date), format='%b %d, %Y',errors=\"coerce\")\n",
    "s.index = s.dt.to_period('m')\n",
    "s = s.groupby(level=0).size()\n",
    "\n",
    "s = s.reindex(pd.period_range(s.index.min(), s.index.max(), freq='m'), fill_value=0)\n",
    "\n",
    "#Printing the count of conferences that took place in each month\n",
    "print (s)"
   ]
  },
  {
   "cell_type": "code",
   "execution_count": 5,
   "metadata": {},
   "outputs": [
    {
     "data": {
      "text/plain": [
       "<matplotlib.axes._subplots.AxesSubplot at 0x1fc90d6b1c8>"
      ]
     },
     "execution_count": 5,
     "metadata": {},
     "output_type": "execute_result"
    },
    {
     "data": {
      "image/png": "[encoded data removed]",
      "text/plain": [
       "<Figure size 432x288 with 1 Axes>"
      ]
     },
     "metadata": {
      "needs_background": "light"
     },
     "output_type": "display_data"
    }
   ],
   "source": [
    "s.plot.bar(title='Conferences 2019-2020')"
   ]
  },
  {
   "cell_type": "code",
   "execution_count": 6,
   "metadata": {},
   "outputs": [
    {
     "data": {
      "text/plain": [
       "<matplotlib.axes._subplots.AxesSubplot at 0x1fc91ce2e08>"
      ]
     },
     "execution_count": 6,
     "metadata": {},
     "output_type": "execute_result"
    },
    {
     "data": {
      "image/png": "[encoded data removed]",
      "text/plain": [
       "<Figure size 432x288 with 1 Axes>"
      ]
     },
     "metadata": {},
     "output_type": "display_data"
    }
   ],
   "source": [
    "s.plot.pie(title='Conferences 2019-2020')"
   ]
  },
  {
   "cell_type": "code",
   "execution_count": 7,
   "metadata": {},
   "outputs": [
    {
     "data": {
      "text/plain": [
       "<matplotlib.axes._subplots.AxesSubplot at 0x1fc91d75448>"
      ]
     },
     "execution_count": 7,
     "metadata": {},
     "output_type": "execute_result"
    },
    {
     "data": {
      "image/png": "[encoded data removed]",
      "text/plain": [
       "<Figure size 432x288 with 1 Axes>"
      ]
     },
     "metadata": {
      "needs_background": "light"
     },
     "output_type": "display_data"
    }
   ],
   "source": [
    "s.plot.line(title='Conferences 2019-2020')"
   ]
  },
  {
   "cell_type": "code",
   "execution_count": null,
   "metadata": {},
   "outputs": [],
   "source": []
  }
 ],
 "metadata": {
  "kernelspec": {
   "display_name": "Python 3",
   "language": "python",
   "name": "python3"
  },
  "language_info": {
   "codemirror_mode": {
    "name": "ipython",
    "version": 3
   },
   "file_extension": ".py",
   "mimetype": "text/x-python",
   "name": "python",
   "nbconvert_exporter": "python",
   "pygments_lexer": "ipython3",
   "version": "3.7.7"
  }
 },
 "nbformat": 4,
 "nbformat_minor": 4
}
